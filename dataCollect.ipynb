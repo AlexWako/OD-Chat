{
 "cells": [
  {
   "cell_type": "code",
   "execution_count": null,
   "metadata": {},
   "outputs": [],
   "source": [
    "import boto3\n",
    "import json\n",
    "import os\n",
    "import pandas as pd\n",
    "import re\n",
    "import requests\n",
    "from bs4 import BeautifulSoup\n",
    "from dotenv import load_dotenv\n",
    "from urlParse import *"
   ]
  },
  {
   "cell_type": "code",
   "execution_count": 56,
   "metadata": {},
   "outputs": [],
   "source": [
    "load_dotenv()\n",
    "\n",
    "shopify_api_key = os.getenv(\"SHOPIFY_API_KEY\")\n",
    "shopify_api_token = os.getenv(\"SHOPIFY_API_TOKEN\")\n",
    "client_id = os.getenv(\"CLIENT_ID\")\n",
    "client_secret = os.getenv(\"CLIENT_SECRET\")\n",
    "tenant_id = os.getenv(\"TENANT_ID\")"
   ]
  },
  {
   "cell_type": "code",
   "execution_count": null,
   "metadata": {},
   "outputs": [],
   "source": [
    "# Get access token\n",
    "token_url = 'https://login.microsoftonline.com/' + tenant_id + '/oauth2/v2.0/token'\n",
    "data = {\n",
    "    'grant_type': 'client_credentials',\n",
    "    'client_id': client_id,\n",
    "    'client_secret': client_secret,\n",
    "    'scope': 'https://graph.microsoft.com/.default'\n",
    "}\n",
    "response = requests.post(token_url, data=data)\n",
    "access_token = response.json()['access_token']"
   ]
  },
  {
   "cell_type": "code",
   "execution_count": null,
   "metadata": {},
   "outputs": [],
   "source": [
    "# Set up API request headers\n",
    "api_url = 'https://graph.microsoft.com/v1.0/users/b0704321-9c2e-4df6-be62-884879f7548d/messages'\n",
    "headers = {\n",
    "    'Authorization': 'Bearer ' + access_token,\n",
    "    'Accept': 'application/json',\n",
    "    'Prefer': 'outlook.body-content-type=\"text\"'\n",
    "}"
   ]
  },
  {
   "cell_type": "code",
   "execution_count": null,
   "metadata": {},
   "outputs": [],
   "source": [
    "# Parse through each request url to find all emails \n",
    "parser = OutlookParser(headers, None, api_url)\n",
    "\n",
    "q = Queue()\n",
    "\n",
    "try:\n",
    "    while q.getsize() <= 3500:\n",
    "        q.enqueue(parser)\n",
    "        parser = OutlookParser(headers, None, parser.getnext())\n",
    "except:\n",
    "    q.enqueue(parser)\n",
    "\n"
   ]
  },
  {
   "cell_type": "code",
   "execution_count": null,
   "metadata": {},
   "outputs": [],
   "source": [
    "index = 1\n",
    "\n",
    "while not q.isEmpty():\n",
    "    current_parse = q.dequeue()\n",
    "    for message in current_parse.getvalue():\n",
    "        try:\n",
    "            text = message['body']['content']\n",
    "            soup = BeautifulSoup(text, 'html.parser')\n",
    "            important_text = soup.find(class_ = \"message-text-2\").get_text(strip = True)\n",
    "            with open(f'question/{index}.txt', 'w') as file:\n",
    "                file.write(important_text)\n",
    "        except:\n",
    "            continue\n",
    "\n"
   ]
  },
  {
   "cell_type": "code",
   "execution_count": null,
   "metadata": {},
   "outputs": [],
   "source": [
    "api_url = 'https://graph.microsoft.com/v1.0/users/b0704321-9c2e-4df6-be62-884879f7548d/mailFolders/sentItems/messages'\n",
    "\n",
    "parser = OutlookParser(headers, None, api_url)\n",
    "\n",
    "q = Queue()\n",
    "\n",
    "try:\n",
    "    while q.getsize() <= 190:\n",
    "        q.enqueue(parser)\n",
    "        parser = OutlookParser(headers, None, parser.getnext())\n",
    "except:\n",
    "    q.enqueue(parser)"
   ]
  },
  {
   "cell_type": "code",
   "execution_count": null,
   "metadata": {},
   "outputs": [],
   "source": [
    "index = 1\n",
    "\n",
    "while not q.isEmpty():\n",
    "    current_parse = q.dequeue()\n",
    "    for message in current_parse.getvalue():\n",
    "        \n",
    "        text = message['body']['content']\n",
    "        soup = BeautifulSoup(text, 'html.parser')\n",
    "        important_text = soup.find(_class = \"gmail_quote\").get_text(strip = True)\n",
    "        with open(f'response/{index}.txt', 'w') as file:\n",
    "            file.write(important_text)\n",
    "        index += 1\n",
    "    print(index)"
   ]
  },
  {
   "cell_type": "markdown",
   "metadata": {},
   "source": [
    "Product Data"
   ]
  },
  {
   "cell_type": "code",
   "execution_count": null,
   "metadata": {},
   "outputs": [],
   "source": [
    "import re\n",
    "\n",
    "def get_next_page(response):\n",
    "    try:\n",
    "        matches = re.findall(r'<([^>]+)>; rel=\"([^\"]+)\"', response)\n",
    "        for match in matches:\n",
    "            if 'next' in match:\n",
    "                return match[0]\n",
    "            else:\n",
    "                continue\n",
    "    except:\n",
    "        return None\n"
   ]
  },
  {
   "cell_type": "code",
   "execution_count": null,
   "metadata": {},
   "outputs": [],
   "source": [
    "headers = {\n",
    "        'X-Shopify-Access-Token': shopify_api_token,\n",
    "        'Content-Type': 'application/json'\n",
    "    }\n",
    "\n",
    "url = \"https://okayamadenim.myshopify.com/admin/api/2023-04/collections/260758241368/products.json\"\n",
    "\n",
    "response = requests.get(url = url, headers = headers)\n",
    "\n",
    "all_data = []\n",
    "\n",
    "while get_next_page(response.headers['link']):\n",
    "    \n",
    "    for product in response.json()['products']:\n",
    "\n",
    "        all_data.append((product['id'], product['title']))\n",
    "\n",
    "    response = requests.get(get_next_page(response.headers['link']), headers = headers)"
   ]
  },
  {
   "cell_type": "code",
   "execution_count": null,
   "metadata": {},
   "outputs": [],
   "source": [
    "region = \"ap-northeast-1\"\n",
    "\n",
    "dynamodb_client = boto3.client(\"dynamodb\", region_name = region)\n",
    "\n",
    "table_name = \"productName\"\n",
    "\n",
    "for product in all_data:\n",
    "\n",
    "    item = {\n",
    "        'id': {'N': str(product[0])},\n",
    "        'name': {'S': product[1]}\n",
    "    }\n",
    "\n",
    "    response = dynamodb_client.put_item(\n",
    "        TableName = table_name,\n",
    "        Item = item\n",
    "    )\n",
    "\n",
    "    print(response['ResponseMetadata']['HTTPStatusCode'])"
   ]
  },
  {
   "cell_type": "code",
   "execution_count": null,
   "metadata": {},
   "outputs": [],
   "source": [
    "import shopify\n",
    "\n",
    "session = shopify.Session(f\"{shopify_api_key}:{shopify_api_token}@okayamadenim.myshopify.com\", \"2023-04\", shopify_api_token)"
   ]
  }
 ],
 "metadata": {
  "kernelspec": {
   "display_name": "Python 3.10.11 ('ODenv')",
   "language": "python",
   "name": "python3"
  },
  "language_info": {
   "codemirror_mode": {
    "name": "ipython",
    "version": 3
   },
   "file_extension": ".py",
   "mimetype": "text/x-python",
   "name": "python",
   "nbconvert_exporter": "python",
   "pygments_lexer": "ipython3",
   "version": "3.10.11"
  },
  "orig_nbformat": 4,
  "vscode": {
   "interpreter": {
    "hash": "c05a844e37c019f135b505729ac5b02a09c44953f30fdff7e37cb2f02299e413"
   }
  }
 },
 "nbformat": 4,
 "nbformat_minor": 2
}
